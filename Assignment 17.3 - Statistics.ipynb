{
 "cells": [
  {
   "cell_type": "code",
   "execution_count": 5,
   "metadata": {},
   "outputs": [
    {
     "name": "stdout",
     "output_type": "stream",
     "text": [
      "[['R', 'B'], ['B', 'B'], ['B', 'R'], ['R', 'R']]\n"
     ]
    }
   ],
   "source": [
    "## To find all the possible outcomes\n",
    "\n",
    "urn = 'RRRRBBBBBB'     ##R - total red balls and B-total black balls in the urn\n",
    "\n",
    "z= []\n",
    "\n",
    "for x in urn:\n",
    "    for y in urn:\n",
    "        a= [x,y]\n",
    "        z.append(a) \n",
    "        \n",
    "ot = [list(n) for n in set(tuple(n) for n in z)]\n",
    "print(ot)"
   ]
  },
  {
   "cell_type": "code",
   "execution_count": 12,
   "metadata": {},
   "outputs": [],
   "source": [
    "## To find the probabilities of all the outcomes\n",
    "red_b = 4\n",
    "black_b = 6\n",
    "total = red_b + black_b\n",
    "\n",
    "#the probability of getting 2 Red balls when we draw out the balls one at a time is:\n",
    "\n",
    "first_red = red_b / total\n",
    "second_red = (red_b - 1)/ (total-1)\n",
    "\n",
    "prob_x1 = first_red * second_red\n",
    "\n",
    "# Probability of getting 1st Red 2nd Black (RB)\n",
    "\n",
    "RB_first_red = red_b / total\n",
    "RB_second_black = black_b / (total - 1)\n",
    "prob_RB = RB_first_red * RB_second_black\n",
    "\n",
    "# Probability of getting 1st Black and 2nd Red (BR)\n",
    "\n",
    "BR_first_black = black_b / total\n",
    "BR_second_red = red_b / (total-1)\n",
    "prob_BR = BR_first_black * BR_second_red\n",
    "\n",
    "# Probability of getting 2 Black (BB)\n",
    "\n",
    "BB_first_black = black_b / total\n",
    "BB_second_black = (black_b-1) / total\n",
    "prob_BB = BB_first_black * BB_second_black\n"
   ]
  },
  {
   "cell_type": "code",
   "execution_count": 13,
   "metadata": {},
   "outputs": [
    {
     "name": "stdout",
     "output_type": "stream",
     "text": [
      "Probability of getting 2 Red balls  0.13333333333333333\n",
      "Probability of getting 1st Red 2nd Black 0.26666666666666666\n",
      "Probability of getting 1st Black and 2nd Red 0.26666666666666666\n",
      "Probability of getting 2 Black 0.3\n"
     ]
    }
   ],
   "source": [
    "print('Probability of getting 2 Red balls ', prob_x1 )\n",
    "print('Probability of getting 1st Red 2nd Black', prob_RB )\n",
    "print('Probability of getting 1st Black and 2nd Red', prob_BR )\n",
    "print('Probability of getting 2 Black', prob_BB)"
   ]
  },
  {
   "cell_type": "code",
   "execution_count": null,
   "metadata": {},
   "outputs": [],
   "source": []
  }
 ],
 "metadata": {
  "kernelspec": {
   "display_name": "Python 3",
   "language": "python",
   "name": "python3"
  },
  "language_info": {
   "codemirror_mode": {
    "name": "ipython",
    "version": 3
   },
   "file_extension": ".py",
   "mimetype": "text/x-python",
   "name": "python",
   "nbconvert_exporter": "python",
   "pygments_lexer": "ipython3",
   "version": "3.6.4"
  }
 },
 "nbformat": 4,
 "nbformat_minor": 2
}
